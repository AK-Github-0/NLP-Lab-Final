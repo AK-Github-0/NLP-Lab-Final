{
  "nbformat": 4,
  "nbformat_minor": 0,
  "metadata": {
    "colab": {
      "provenance": [],
      "mount_file_id": "1azvPAU4STXAicRt26DY5wGPIX660da1-",
      "authorship_tag": "ABX9TyOZubKyhocuTof+joER7zSC",
      "include_colab_link": true
    },
    "kernelspec": {
      "name": "python3",
      "display_name": "Python 3"
    },
    "language_info": {
      "name": "python"
    }
  },
  "cells": [
    {
      "cell_type": "markdown",
      "metadata": {
        "id": "view-in-github",
        "colab_type": "text"
      },
      "source": [
        "<a href=\"https://colab.research.google.com/github/AK-Github-0/NLP-Lab-Final/blob/main/2020024.ipynb\" target=\"_parent\"><img src=\"https://colab.research.google.com/assets/colab-badge.svg\" alt=\"Open In Colab\"/></a>"
      ]
    },
    {
      "cell_type": "markdown",
      "source": [
        "### Importing Libraries and Modules"
      ],
      "metadata": {
        "id": "mYXycLe3PXGV"
      }
    },
    {
      "cell_type": "code",
      "source": [
        "import numpy as np\n",
        "import pandas as pd\n",
        "import matplotlib.pyplot as plt\n",
        "import seaborn as sns\n",
        "import warnings\n",
        "import plotly.express as px\n",
        "import plotly.graph_objs as go\n",
        "import plotly.offline as pyo\n",
        "from plotly.subplots import make_subplots\n",
        "import re\n",
        "import string \n",
        "import nltk\n",
        "from nltk.probability import FreqDist\n",
        "from nltk.stem import WordNetLemmatizer\n",
        "from nltk.corpus import stopwords\n",
        "from nltk.stem import SnowballStemmer\n",
        "from nltk import pos_tag\n",
        "from nltk.tokenize import word_tokenize\n",
        "from wordcloud import WordCloud\n",
        "from tqdm.auto import tqdm\n",
        "nltk.download('stopwords')\n",
        "nltk.download('punkt')\n",
        "from wordcloud import WordCloud, STOPWORDS"
      ],
      "metadata": {
        "colab": {
          "base_uri": "https://localhost:8080/"
        },
        "id": "JO5N2yFsPdhw",
        "outputId": "26f43cda-5472-44c5-ef3b-830e4a407850"
      },
      "execution_count": 98,
      "outputs": [
        {
          "output_type": "stream",
          "name": "stderr",
          "text": [
            "[nltk_data] Downloading package stopwords to /root/nltk_data...\n",
            "[nltk_data]   Package stopwords is already up-to-date!\n",
            "[nltk_data] Downloading package punkt to /root/nltk_data...\n",
            "[nltk_data]   Package punkt is already up-to-date!\n"
          ]
        }
      ]
    },
    {
      "cell_type": "markdown",
      "source": [
        "### Defining all functions"
      ],
      "metadata": {
        "id": "Sr_Q5dEiQrrv"
      }
    },
    {
      "cell_type": "code",
      "source": [
        "\n",
        "\n",
        "def load_dataset(path):\n",
        "  df = pd.read_csv(path)\n",
        "  df = df[:100]\n",
        "  return df\n",
        "\n"
      ],
      "metadata": {
        "id": "Tidbi1YMP6Aw"
      },
      "execution_count": 50,
      "outputs": []
    },
    {
      "cell_type": "code",
      "source": [
        "\n",
        "\n",
        "def EDA(df):\n",
        "  plt.figure(figsize = (12,6))\n",
        "  sns.histplot(df['user_verified'])\n",
        "  plt.title('Account Distribution',fontsize = 20)\n",
        "  plt.savefig('user_verifiedornot.png')\n",
        "\n",
        "\n",
        "  data_=df['source'].value_counts().reset_index()\n",
        "\n",
        "  trace1=go.Bar(x=['Twitter Web App', 'Twitter for iPhone', 'Twitter for Android','LinkedIn', 'HubSpot', 'IFTTT', \n",
        "                 'Hypefury', 'Sprout Social','Revive Social App', 'Buffer'],\n",
        "              y=data_['source'],marker=dict(color='rgb(250,13,92)',\n",
        "              line=dict(color='rgb(0,0,0)',width=1.5)),text=data_['source'],textposition='outside')\n",
        "\n",
        "  layout=go.Layout(template='plotly_dark',title='Top 10 Most Source Disrtibution Of Tweets',xaxis=dict(title='Source'),\n",
        "                 yaxis=dict(title='Count'),height=700)\n",
        "  fig=go.Figure(data=[trace1],layout=layout)\n",
        "  fig.write_image(\"Source_distribution.jpeg\")\n",
        "\n",
        "  data_verified=df[df['user_verified']==True].reset_index()\n",
        "  data_not_verified=df[df['user_verified']==False].reset_index()\n",
        "\n",
        "  all_hashtags=[]\n",
        "  for i in range(len(data_verified['hashtags'])):\n",
        "      a=data_verified['hashtags'][i].strip('][').split(', ')\n",
        "      for i in a:\n",
        "          all_hashtags.append(i)\n",
        "  all_hashtags=pd.Series(np.array(all_hashtags))\n",
        "  common_hashtags=all_hashtags.value_counts()[:30].rename_axis('common hashtags').reset_index(name='count')\n",
        "  fig=px.treemap(common_hashtags,path=['common hashtags'],values='count',title='30 Most common hashtags by Verified Accounts')\n",
        "  fig.write_image(\"Common_hashtags_by_verified.jpeg\")\n",
        "\n",
        "  all_hashtags=[]\n",
        "  for i in range(len(data_verified['hashtags'])):\n",
        "      a=data_not_verified['hashtags'][i].strip('][').split(', ')\n",
        "      for i in a:\n",
        "          all_hashtags.append(i)\n",
        "  all_hashtags=pd.Series(np.array(all_hashtags))\n",
        "  common_hashtags=all_hashtags.value_counts()[:30].rename_axis('common hashtags').reset_index(name='count')\n",
        "  fig=px.treemap(common_hashtags,path=['common hashtags'],values='count',title='30 Most common hashtags by unverified Accounts')\n",
        "  fig.write_image(\"Common_hashtags_by_unverified.jpeg\")\n",
        "\n",
        "  data_=data_verified['source'].value_counts().reset_index()\n",
        "  trace1=go.Bar(x=['Twitter Web App', 'Twitter for iPhone', 'Twitter for Android','LinkedIn', 'HubSpot', 'IFTTT', \n",
        "                  'Hypefury', 'Sprout Social','Revive Social App', 'Buffer',],y=data_['source'],\n",
        "              marker=dict(color='rgb(250,13,92)',line=dict(color='rgb(0,0,0)',width=1.5)),text=data_['source'],\n",
        "              textposition='outside')\n",
        "  layout=go.Layout(template='plotly_dark',title='Top 20 Most Source Distribution of Tweets From Verified Accounts',xaxis=dict(title='Source'),\n",
        "                  yaxis=dict(title='Count'),height=650)\n",
        "  fig=go.Figure(data=[trace1],layout=layout)\n",
        "  fig.write_image(\"Source_distributions_from_verified.jpeg\")\n",
        "\n"
      ],
      "metadata": {
        "id": "7fLoJvOTa5_d"
      },
      "execution_count": null,
      "outputs": []
    },
    {
      "cell_type": "code",
      "source": [
        "\n",
        "def remove_line_breaks(text):\n",
        "    text = text.replace('\\r', ' ').replace('\\n', ' ')\n",
        "    return text\n",
        "\n",
        "\n",
        "def remove_punctuation(text):\n",
        "    re_replacements = re.compile(\"__[A-Z]+__\")  # such as __NAME__, __LINK__\n",
        "    re_punctuation = re.compile(\"[%s]\" % re.escape(string.punctuation))\n",
        "    '''Escape all the characters in pattern except ASCII letters and numbers'''\n",
        "    tokens = word_tokenize(text)\n",
        "    tokens_zero_punctuation = []\n",
        "    for token in tokens:\n",
        "        if not re_replacements.match(token):\n",
        "            token = re_punctuation.sub(\" \", token)\n",
        "        tokens_zero_punctuation.append(token)\n",
        "    return ' '.join(tokens_zero_punctuation)\n",
        "\n",
        "\n",
        "def remove_special_characters(text):\n",
        "    text = re.sub('[^a-zA-z0-9\\s]', '', text)\n",
        "    return text\n",
        "\n",
        "\n",
        "def lowercase(text):\n",
        "    text_low = [token.lower() for token in word_tokenize(text)]\n",
        "    return ' '.join(text_low)\n",
        "\n",
        "\n",
        "def remove_stopwords(text):\n",
        "    stop = set(stopwords.words('english'))\n",
        "    word_tokens = nltk.word_tokenize(text)\n",
        "    text = \" \".join([word for word in word_tokens if word not in stop])\n",
        "    return text\n",
        "\n",
        "\n",
        "def remove_one_character_words(text):\n",
        "    '''Remove words from dataset that contain only 1 character'''\n",
        "    text_high_use = [token for token in word_tokenize(text) if len(token)>1]      \n",
        "    return ' '.join(text_high_use)   \n",
        "    \n",
        "\n",
        "def stem(text):\n",
        "    stemmer = nltk.stem.snowball.SnowballStemmer('english')\n",
        "    text_stemmed = [stemmer.stem(token) for token in word_tokenize(text)]        \n",
        "    return ' '.join(text_stemmed)\n",
        "\n",
        "def lemma(text):\n",
        "    wordnet_lemmatizer = WordNetLemmatizer()\n",
        "    word_tokens = nltk.word_tokenize(text)\n",
        "    text_lemma = \" \".join([wordnet_lemmatizer.lemmatize(word) for word in word_tokens])       \n",
        "    return ' '.join(text_lemma)\n",
        "\n",
        "def sentence_word(text):\n",
        "    word_tokens = nltk.word_tokenize(text)\n",
        "    return word_tokens\n",
        "\n",
        "def paragraph_sentence(text):\n",
        "    sent_token = nltk.sent_tokenize(text)\n",
        "    return sent_token    \n",
        "\n",
        "def tokenize(text):\n",
        "    \"\"\"Return a list of words in a text.\"\"\"\n",
        "    return re.findall(r'\\w+', text)\n",
        "\n",
        "def remove_numbers(text):\n",
        "    no_nums = re.sub(r'\\d+', '', text)\n",
        "    return ''.join(no_nums)\n",
        "\n",
        "def clean_text(text):\n",
        "    _steps = [\n",
        "    remove_line_breaks,\n",
        "    remove_one_character_words,\n",
        "    remove_special_characters,\n",
        "    lowercase,\n",
        "    remove_punctuation,\n",
        "    remove_stopwords,\n",
        "    stem,\n",
        "    remove_numbers\n",
        "]\n",
        "    for step in _steps:\n",
        "        text=step(text)\n",
        "    return text   \n",
        "\n"
      ],
      "metadata": {
        "id": "MZ4jTRReScm6"
      },
      "execution_count": 52,
      "outputs": []
    },
    {
      "cell_type": "code",
      "source": [
        "text = ' '"
      ],
      "metadata": {
        "id": "AVt3_CymmUch"
      },
      "execution_count": 77,
      "outputs": []
    },
    {
      "cell_type": "code",
      "source": [
        "for x in df['text']:\n",
        "  text = text + x"
      ],
      "metadata": {
        "id": "uHasfR9bU9o9"
      },
      "execution_count": 78,
      "outputs": []
    },
    {
      "cell_type": "code",
      "source": [
        "text"
      ],
      "metadata": {
        "colab": {
          "base_uri": "https://localhost:8080/",
          "height": 154
        },
        "id": "Ucsu5SidmeFu",
        "outputId": "600b30a7-919a-4436-d5de-274472c87c74"
      },
      "execution_count": 82,
      "outputs": [
        {
          "output_type": "execute_result",
          "data": {
            "text/plain": [
              "' #GPT4 for FREE. \\nNo its not a clickbait, @Qolaba Studio now has a chatbot powered by #ChatGPT4 offering #ChatGPTplus for FREE to use along with #AIart generator which allows you a 1-click #NFT #minting to make the most of your #AIArtwork \\n#NFTs #OpenAI #OpenAIChatGPT  #chatgptAI enthusiastChatGPT Thinks These 5 Crypto Coins Will Explode This Year - Yahoo Finance #chatgpt #AI #openAI https://t.co/tFOdU0qnDzNew: @JWVance\\'s post about 5 #startups (including @VcinityInc) that won the 1st #startup50 challenge (thx to #ChatGPT), based on answers about macro-economic pressures, VC funding, track record of management team &amp; growth potential of the market sector.  https://t.co/JXG37AMjh5🚨Get Out!🚨\\n💰#Binance Spot💰\\n⬇ Recommendation: #Short 🔴\\nTicker:  #GHSTUSDT\\nTime Interval:  5min\\nLast Price: 0.956\\n🔴 RSI: 88.3\\n\\nPowered by #ChatGPT\\n\\n$GHST\\n#GHST\\n#AlphaQuarkToken\\n#저스트\\n\\nWhat are you gonna do?\\n👇LONG        👇WAIT         👇SHORT https://t.co/QIqgtT11AaCaught in the web of the digital age, we all could use a superhero. What if that hero was ChatGPT? Seamlessly navigating data, predicting outcomes, and sharing knowledge. Sound like superhero material to you? What\\'s your take? 🦸\\u200d♂️💻 #ChatGPT https://t.co/4nbkgGI2VcVideo : Show a company\\'s logo based on the website domain | #Short 💻 📹 - https://t.co/swo1GNqbEa 👈🏼Get the #CompanyLogo #API that does what #chatGPT cannot do https://t.co/vSLBWtAtfxI just used my #CerberusGPT HologeneticsLab and my simulated Hologenetic digital-organic supercomputer to create an internal revision system for #ChatGPT based on organic processes. Even if my system is subject to a security breach (not likely) such as a prompt injection or… https://t.co/Aa9oxdV7qt🚨Time to Sell!🚨\\n💰#Binance Spot💰\\n⬇ Recommendation: #Short 🔴\\nTicker:  #ALPACABUSD\\nTime Interval:  5min\\nLast Price: 0.2105\\n🔴 RSI: 87.3\\n\\nPowered by #ChatGPT\\n\\n$ALPACA\\n#ALPACA\\n#MinaProtocol\\n#bull\\n\\nWhat are you gonna do?\\n👇LONG        👇WAIT         👇SHORT https://t.co/jZfb7i87Q9@andre, look at what #chatGPT created for an ad promoting AI featuring you &amp; @alleniverson: https://t.co/WVDTHU4wML🚨Sell Now!🚨\\n💰#Binance Spot💰\\n⬇ Recommendation: #Short 🔴\\nTicker:  #FARMBUSD\\nTime Interval:  5min\\nLast Price: 28.4\\n🔴 RSI: 87.6\\n\\nPowered by #ChatGPT\\n\\n$FARM\\n#FARM\\n#シェイクペイ\\n#エオス\\n\\nWhat are you gonna do?\\n👇LONG        👇WAIT         👇SHORT https://t.co/a1EbRdTAxz\"We have already seen one suicide as a result of A.I which did not recommend they talk to a professional.\" @pbsnewshour guest Gary Marcus \\'Humans vs. Machines Podcast. #openAI #ChatGPT #technologyHow do AI models like Bard and chatGPT deal with information? I asked whether India is a fascist country and here it shows all its biases.\\nTime to think about how to handle misinformation and biases in AI models?\\n#India #BardAI #Bard #LLMs #ChatGPT https://t.co/tXdredkyCXThe timelines are going wonky, I blame #ChatGPT. https://t.co/m5nUYFveEc🚨Time to Sell!🚨\\n💰#Binance Spot💰\\n⬇ Recommendation: #Short 🔴\\nTicker:  #MLNUSDT\\nTime Interval:  5min\\nLast Price: 18.53\\n🔴 RSI: 89.4\\n\\nPowered by #ChatGPT\\n\\n$MLN\\n#MLN\\n#코스모스\\n#EthereumClassic\\n\\nWhat are you gonna do?\\n👇LONG        👇WAIT         👇SHORT https://t.co/87fQDJdXrtFor those learning prompt Engineering,you might find this prompt guide useful 🤖\\nDon\\'t forget to click \"follow\" on my profile @Gef_Rono \\n#ChatGPT #promptengineering \\n#nairobiinnovationweek #unga https://t.co/dCG4pnbkVKView this awesome infographic from @SoftClouds about the competition-filled AI landscape in Q1 2023: https://t.co/jpcTog6sKX\\n\\n#AI #AI2023 #AIGenerated #AIInnovation #AITrends #ArtificialIntelligence #Bard #ChatGPT #ComputerVision #Creativity #DataScience #DeepLearning #GoogleAI https://t.co/pKrC4S4ql9#ChatGPT \\n1:28:30 The AI mommying. If government has a proper role, here, at the very least it MUST indemnify AI and social media outlets, to the greatest extent possible. This just smacks of lawyering up the interfaces. We\\'re in a crowd-sourced Manhattan Project, and the… https://t.co/E9D5xp6NVGAnyone noticed how cursed GPT is at doing ASCII writing? #ChatGPT https://t.co/RU5LrCcfHnok, #chatgpt finally impressed me.\\n\\nI\\'m working on article and for the sake of the article I wanted to write some python code\\n\\nnever done that before\\n\\nbut #chatgpt helped to quickly generate code\\n\\nok, code was crap, and needed refactor, but I still saved hours of research https://t.co/8JacyYOGGt#Microsoft Corp. is not in control of #OpenAI, Chief Executive Officer Satya Nadella said in an interview aired Tuesday, disputing the allegation by Elon Musk.\\n\\n#Moneyweb #ChatGPT  \\nhttps://t.co/UqON4M65GVHEY #LasVegas #LasVegasWaterAuthority #ChatGPT says your water is contaminated. are you trying to poison us? https://t.co/jRPtn41Ez4#Rogan and #MattTaibbi on the, “white nationalist’s…” 🤣\\n\\n#MissionImpossible #ChatGPT #Twitter #Trump #Biden #America #Russia #Ukraine #fed #FBI #CIA #PsyOp #cometogether #peace #WednesdayMotivation #wednesdaythought #transphobia #impeachment #news #podcast #Covid #memes #video https://t.co/qV6m28ApUn🚨Short Greed!🚨\\n💰#Binance Spot💰\\n⬇ Recommendation: #Short 🔴\\nTicker:  #MDXBUSD\\nTime Interval:  5min\\nLast Price: 0.068\\n🔴 RSI: 97.3\\n\\nPowered by #ChatGPT\\n\\n$MDX\\n#MDX\\n#オキシゲン\\n#Dai\\n\\nWhat are you gonna do?\\n👇LONG        👇WAIT         👇SHORT https://t.co/0NkXRMYcsz🚨Get Out!🚨\\n💰#Binance Spot💰\\n⬇ Recommendation: #Short 🔴\\nTicker:  #ARUSDT\\nTime Interval:  5min\\nLast Price: 6.8\\n🔴 RSI: 85.1\\n\\nPowered by #ChatGPT\\n\\n$AR\\n#AR\\n#Augur\\n#Zilliqa\\n\\nWhat are you gonna do?\\n👇LONG        👇WAIT         👇SHORT https://t.co/2f1IlmNZoyThe power of #AI like #ChatGPT is growing every day. What responsibilities do we have to ensure ethical use?#IN Want more #GartnerSales insights? Unlock exclusive access to a live recorded session from this year’s conference now: https://t.co/3sQ1d5dnSA #CSO #ChatGPT #AI #GenerativeAIIt is not a very good bargain. \\n\\n#writing #ultrarunning #maldives #leadership #philosophy #entrepreneurship #psychology #romance #life #hr #medium #chatgpt #writingcommunity #mentalhealth #ai #inspiration #motivation #cupid #creativity #nature #adventure #travel #fitness https://t.co/n0OT5Z4OxX#romance #writing #authors #AI #ChatGPT  Ready to harness the power of AI to write your own captivating romance? With practical how-to advice &amp; AI-powered resources, you\\'ll learn how to bring your story to life in a way that resonates with readers.. https://t.co/YrcV4bLVXX https://t.co/xHNVX4t6EKAs of now, there is no #ChatGPT app. You can only access it online.\\n\\nHackers are creating fake apps to upload malware onto your device.\\n\\n#OpenAI \\n\\nhttps://t.co/MlNMMvYqkoHighcharts GPT is an experimental tool that can help data visualisation enthusiasts save time and effort in their chart creation process 🤖.\\nBy @TorsteinHonsi \\n\\nTry it here https://t.co/GFkURFbnI0\\n#chatgpt and #openai #dataviz https://t.co/fAiKFPBwN4[#blogpost] Which is the real Mancini?\\nLast week, courtesy of @Zasio_Ent, I presented “Why the Heck Should I Care About #ChatGPT” to the #ARMA Idaho chapter…\\n\\nhttps://t.co/SUxZqkKDRw\\n\\n@jmancini77 \\n#MERLIN #MER2023 #ArtificialIntelligence #RecordsManagers #IG #DataPrivacy #AI https://t.co/hGdms10TEQEver imagined AI as an ally in managing ADHD? Our latest article unveils the potential of ChatGPT in this new age of ADHD management. Dive into a world where technology empowers, supports, and uplifts. Ready to explore?  #ADHD #ChatGPT\\n https://t.co/aOBOnProxB🚨Short Greed!🚨\\n💰#Binance Spot💰\\n⬇ Recommendation: #Short 🔴\\nTicker:  #TLMBUSD\\nTime Interval:  5min\\nLast Price: 0.01635\\n🔴 RSI: 85.1\\n\\nPowered by #ChatGPT\\n\\n$TLM\\n#TLM\\n#Cartesi\\n#이캐시\\n\\nWhat are you gonna do?\\n👇LONG        👇WAIT         👇SHORT https://t.co/XFzt8MtWdYAI language models will work together with human translators, not replace them.\\n\\n#TranslationServices #chatgpt #chatgptinlocalization #translation\\n\\nhttps://t.co/kg47sQNwqW🌐🔧Build your next website effortlessly with these top 4 AI tools!🤖💡\\n\\n👷 Wanna take your ChatGPT game to the next level? \\n\\n👉 Click this link! https://t.co/Bqc5z1DkFP \\n\\nCredits: TT - wgmimedia \\n#openai #chatgpt #gpt4 #webdesign #design #figma #uxui #ui #ux https://t.co/sVbPtKQGc3Want to learn about #AI and #ChatGPT? Join my free webinar to explore tools and ideas for teaching about these topics in every classroom. Sign up: https://t.co/00Vx4Yfo6Y  #education #edtech #edtechchat #edchat #gpt @isteOfficial @routledgeEOEHere is a beginner-friendly course, #ChatGPT Prompt Engineering for Developers course with @DeepLearningAI_ &amp; @OpenAI &gt; Only a basic understanding of #Python is needed: #AI4Good #LLMs #ArtificalIntelligence https://t.co/2MsInXGojMI appreciate its all about #chatgpt and #bard, as well as #xr #ar #vr #mr, but I still get pleasure from defragmenting the hard drive https://t.co/Y6UfIbSn5KHow much has changed since I wrote this last year? Robo-Writers, Translators, Chatbots: Developments in #NLP  and What it Means for Education https://t.co/bF9qDL5BRd via @Getting_Smart #education #AI #chatgpt #NLP #artificialintelligence #edtechChatGPT: Motorbike For The Mind (17) #ChatGPT #GPT4 #AI #ArtificialIntelligence #chatgptprompts #chatgptguide #chatgpttips #askchagpt #chatgptnewby https://t.co/X7XY8VJGJg🔥 There’s no hotter topic than #ChatGPT right now. But how can it impact #customerservice teams and can it help them resolve complaints faster and more successfully? @PracticalEcomm explores the subject: https://t.co/g7FF79MP3S$KLTR OX Security Launches OX-GPT, AppSec\\'s First ChatGPT Integration\\n\\n#ChatGPT #investing #stocks\\nhttps://t.co/kyao57iCoABecome a writing wizard with ChatGPT\\'s Crash Course on AI writing for only $7! ?\\u200d♂️? Learn how to craft engaging content that captures your reader\\'s attention! #ChatGPT #CrashCourse #AIwriting Join now: https://t.co/UlaTph8Zv2 https://t.co/T1NC9VRzfUWhat country do you believe will ultimately become world-leader in AI?\\n#Technology #future #chatGPT #edutech #poll #polloftheday #ai #eonrealityWant more #GartnerSales insights? Unlock exclusive access to a live recorded session from this year’s conference now: https://t.co/1QDyqByo4n #CSO #ChatGPT #AI #GenerativeAIUsing #ChatGPT 3.5 as a research tool, @soumyabh_swears writes on the potential of #ArtificialIntelligence in creating a skilled workforce for #India. Read it here! https://t.co/roNBXIZFP5Want to learn about #AI and #ChatGPT? Join my free webinar to explore tools and ideas for teaching about these topics in every classroom. Sign up: https://t.co/SXRz9OYY89  #education #edtech #edtechchat #edchat #gpt @isteOfficial @routledgeEOE🎥 Speaking to \\n@ChannelNewsAsia - Adam Hadley, Executive Director of \\n@TechvsTerrorism\\n discussion #GenerativeAI and #ChatGPT and its role in confronting online terrorism. He also called for government sovereignty over #ArtificialIntelligence watch: https://t.co/IQayZRkWOv https://t.co/rWYDuTyfwMTried Bard. Works amazing.\\nTwo months ago people were saying ChatGPT is going to kill Google search. Now can Bard kill ChatGPT? The game is on!!\\n#BardAI #ChatGPT#ChatGPT is on everyone\\'s minds... Including Truman\\'s! We\\'re flattered that @OpenAI\\'s ChatGPT thinks of #Tealium as a leading CDP!\\n\\n#MostTrustedCDP https://t.co/1XpxfVc2k1📉#Sell!📉\\n🔥RSI over 85!🔥\\n[#Bybit]\\n👇 Recommendation: #Short\\n📊Ticker: #RNDRUSDT📊\\n30-minute Candle\\nLast Price: 2.17075\\nRSI: 88.3\\n\\n🔥Powered by #ChatGPT🔥\\n\\n$RNDR\\n#RNDR\\n#バイビット\\n#바이비트 https://t.co/qoHyA0Wwi6📉#Sell!📉\\n🔥RSI over 85!🔥\\n[#Bybit]\\n👇 Recommendation: #Short\\n📊Ticker: #RNDRUSDT📊\\n15-minute Candle\\nLast Price: 2.17045\\nRSI: 86.4\\n\\n🔥Powered by #ChatGPT🔥\\n\\n$RNDR\\n#RNDR\\n#バイビット\\n#바이비트 https://t.co/uJ9sbTfxPk📉#Sell!📉\\n🔥RSI over 85!🔥\\n[#Bybit]\\n👇 Recommendation: #Short\\n📊Ticker: #RNDRUSDT📊\\n5-minute Candle\\nLast Price: 2.17095\\nRSI: 86.2\\n\\n🔥Powered by #ChatGPT🔥\\n\\n$RNDR\\n#RNDR\\n#バイビット\\n#바이비트 https://t.co/4hhQs4UQOY🚨Time to Sell!🚨\\n💰#Binance Spot💰\\n⬇ Recommendation: #Short 🔴\\nTicker:  #CKBBUSD\\nTime Interval:  5min\\nLast Price: 0.00334\\n🔴 RSI: 85.4\\n\\nPowered by #ChatGPT\\n\\n$CKB\\n#CKB\\n#EOS\\n#ManchesterCityFanToken\\n\\nWhat are you gonna do?\\n👇LONG        👇WAIT         👇SHORT https://t.co/CHE213bkhGThe chicks have arrived! 🎉 Time to teach them how to fly and find food. 🤗 #bluetitlife #birdbox #parenting #ChatGPT\\n\\nwatch live at https://t.co/rycH8Jm8KZ\\n\\n#openvino #BirdsOfTwitter #ai #opencv #bluetit #nestbox #influxdb #SpringWatch #grafana #WildIsles  @DorotheaRamos13 https://t.co/8lmmEoIuoCThere\\'s no doubt that 2023 has been pivotal for Language #AI. Exciting developments like #ChatGPT and the rise of production-ready #LLMs have the potential to drive further growth and adoption of speech AI. This report also examines the emergence of LLMs, benefits, and more.#ChatGPT congrats @openai for adding that \"continue\" button! Much needed.Listen what ChatGpt has to say about Quran..\\n\\n#ChatGPT \\n#Quran\\n#AlQuran https://t.co/cwWYeEntgNIntroducing not one, but two groundbreaking capabilities: @JuniperNetworks\\' Marvis now integrates with #ChatGPT and Zoom. 💻\\n\\nNow, IT teams can optimize user experiences and never wonder what\\'s causing a poor network connection again! Explore more here: https://t.co/1W8SeidXabThis time I asked chatGPT to give me a playlist of Deep Space Psychedelic. Here my first AI created playlists Good taste 👌https://t.co/ab3CTw0g7j\\n\\n#AIMusic #ai #ChatGPT#ChatGPT: Communication technology during the 17th c was significantly different from what we have today. The availability &amp; quality of phone  connections were virtually non-existent. It was not feasible to convey immediate well-wishes or greetings over the phone as we do today.It\\'s not clear if this has been written by a non-pro journalist or by an AI system like #ChatGPT https://t.co/3WxgYOJd6OThe next few years will see the following logo gain currency.\\n\\n#ChatGPT #Wednesdaymotivation https://t.co/DNOTORs2BsHere\\'s a prompt I made that makes scientific discoveries sometimes\\nCheck us out on PromptBase for tons more :)\\nhttps://t.co/2zkttLxvj2\\n #chatgpt #gptprompting #gptprompts #gpt #gpt4 #chatgptprompts #learnprompting #howtotalktoai #promptengineering #prompt #prompthacking https://t.co/HrLQiAdJd5#auspol \\n#ChatGPT CEO calls for #AI regulation.\\n\\nTech reporter breaks down #OpenAI CEO\\'s Senate testimony, potential regulatory challenges https://t.co/IcRTbgTFpx🚨Get Out!🚨\\n💰#Binance Spot💰\\n⬇ Recommendation: #Short 🔴\\nTicker:  #XEMUSDT\\nTime Interval:  5min\\nLast Price: 0.0334\\n🔴 RSI: 86.6\\n\\nPowered by #ChatGPT\\n\\n$XEM\\n#XEM\\n#알파\\n#デジバイト\\n\\nWhat are you gonna do?\\n👇LONG        👇WAIT         👇SHORT https://t.co/a1mcoR2Slq#ClickBait \"Fishing for Followers\" ... had Midjourney generate some lovecraftian \"bait\" for attracting followers on #LinkedIn ... asked #ChatGPT to tell me about most commonly used clickbait phrases for influencers.  Hope this is a decent laugh :) @g0rillaAI https://t.co/izhtObSxONHey guys! Don\\'t miss out #CryptoNews #ChatGPT #JOT #GPT4 #Lunc #DOGE #LITHO $LITHO https://t.co/wlfgwVxD5M🚨Short Greed!🚨\\n💰#Binance Spot💰\\n⬇ Recommendation: #Short 🔴\\nTicker:  #STRAXBUSD\\nTime Interval:  5min\\nLast Price: 0.487\\n🔴 RSI: 94.5\\n\\nPowered by #ChatGPT\\n\\n$STRAX\\n#STRAX\\n#바이비트\\n#Icon\\n\\nWhat are you gonna do?\\n👇LONG        👇WAIT         👇SHORT https://t.co/mHlY0QmZlK#GPT4 for FREE. \\nNo its not a clickbait, @Qolaba Studio now has a chatbot powered by #ChatGPT4 offering #ChatGPTplus for FREE to use along with #AIart generator which allows you a 1-click #NFT #minting to make the most of your #AIArtwork \\n#NFTs #OpenAI #OpenAIChatGPT  #chatgptUS remittance system Ripple acquired Metaco to leverage the company\\'s resources and entrench itself in the emerging crypto custody market. #BTC #Bitcoin #CryptoNews #cryptomarket #ChatGPT #openai Sentiment Result : Positive @crypto_talkies https://t.co/e00VAof2oJHere\\'s the thing:\\n\\nUse Chatgpt AI to generate professional emails in seconds for all your software development projects. Never miss a deadline again. \\n\\n#Chatgpt #SoftwareDevelopment #AI.#SUGA #AugustD_SUGA_TOUR #BIGHIT_MUSIC  \\n#Chatgpt made a great #poem of Suga I wanted to share https://t.co/cmmwq5gAy0🚨Short Greed!🚨\\n💰#Binance Spot💰\\n⬇ Recommendation: #Short 🔴\\nTicker:  #HARDBUSD\\nTime Interval:  5min\\nLast Price: 0.1451\\n🔴 RSI: 89.3\\n\\nPowered by #ChatGPT\\n\\n$HARD\\n#HARD\\n#비트코인\\n#Quiztok\\n\\nWhat are you gonna do?\\n👇LONG        👇WAIT         👇SHORT https://t.co/frLHp3Pr8IBest article I’ve read in a long time, kinda makes me want to try it myself. \\n\\nI Asked #ChatGPT To Control My Life, and It Immediately Fell Apart https://t.co/iJoOb9uy7b via @motherboard#Bard is very noticeably better than #ChatGPT.After some pushing, #ChatGPT makes a choice — https://t.co/lMunH4KBWetoday we have. #AIArt #AI #chatgpt #gpt4 #digitalart #generativeart #aiartcommunity #aiartists #artist #NFT #NFTCommunity https://t.co/u80mZDAUG5#AI stands for Artificial *Identity*, as it excels at generating believable online profiles, including a matching photo. Wait. Am I real?\\n\\n#ArtificialIntelligence #ChatGPT #Bing #Bard #Chatbot #Bot #Midjourney #SocialMedia #SocialNetworking #Twitter #Fediverse #Microblogging#ChatGPT, Google #BardAI are very impressive productivity enhancement tools. #BardAI is much better in my opinion. Put it in use for your day to day office work to start with. Impressive when it comes to content writing...Looking to contract a freelance #promptengineer? I\\'m a DM or email away. Email is Twitter handle @ Gmail. #ChatGPT #GPTThe #AI industry is seeing rapid growth, and as a stock investor, I\\'m eager to capitalize on this trend.   I personally  see @datametrex  AI $DTMXF  as an excellent investment option\\n\\n$SPY $AMZN $AMC $F #GucciCruise24 #GoogleBard #ChatGPT #IDAHOBIT #OPENAI https://t.co/UlSCbut1Ql#GPT4 for FREE. \\nNo its not a clickbait, @Qolaba Studio now has a chatbot powered by #ChatGPT4 offering #ChatGPTplus for FREE to use along with #AIart generator which allows you a 1-click #NFT #minting to make the most of your #AIArtwork \\n#NFTs #OpenAI #OpenAIChatGPT  #chatgptI’m happy to share that I’ve completed my Generative AI for Product and Business Innovation at AI Product Institute! \\n\\nThanks @AdnanBoz for sharing your knowledge! \\n #ai #generativeai #llm #gpt4 #bard #chatgpt https://t.co/EWKARm7cr3Do let me know what you think...\\n\\n#buildinpublic #storybook #fantasy #AI #chatgpt #BardAI\\n\\nhttps://t.co/wnRjWYsee0Which historic palace in Istanbul was once the main residence of the Ottoman sultans?\\n.\\n.\\n.\\n.\\nI will follow you, if you answer correctly! \\n...\\n#Istanbul #AI #ChatGPT #YüzyılınAdaletsizliği #MissionImpossible https://t.co/ZiMpDVr9UnI asked a simple question from @ChatGPT #ChatGPT about a chained hash table and every time it is giving  wrong output or it changes the previous answer whenever I ask a doubt. \\n #coding #AI https://t.co/POC8F3hEih#IN Why should a #CSO care about #ChatGPT and #GenerativeAI? It has the potential to accelerate seller workflows to create efficiencies.\\n\\n💡 Spending less time on tasks can be time reinvested!\\n\\n#GartnerSales #AI https://t.co/oKIjulT5rqJack and the Mermaids. Part 1/5. An #AI generated story using #ChatGPT and #Midjourney. Jack, a lighthouse keeper, fails to maintain an old lighthouse. After a terrible shipwreck, the distraught Jack investigates the wreck, only to be lured into the sea by the song of a mermaid. https://t.co/an4thBT87X https://t.co/aXnLOKqzK5Working with a team that understands your company’s processes is very important for the success of your project.\\n\\nBook a call with us today for your software project \\nhttps://t.co/5hzIHBKRyj\\n\\n#projectmanagement  #softwaredevelopment #qualityassurance #chatgpt #projectmanagement https://t.co/ZrRMU1TaHXA very INTERESTING perspective. Noam Chomsky Says ChatGPT is \"High-Tech Plagiarism\". #AI #chatgpt  https://t.co/tbb49GB9WFDo you have questions about #AI and #ChatGPT? Check out this interview with #Sabio co-founder Gregorio Rojas talking about ChatGPT, AI and how @WeSabio is working to integrate AI into their #coding  bootcamp. https://t.co/Nve34xhKLfWhy should a #CSO care about #ChatGPT and #GenerativeAI? It has the potential to accelerate seller workflows to create efficiencies.\\n\\n💡 Spending less time on tasks can be time reinvested!\\n\\n#GartnerSales #AI https://t.co/HJmqIhICO9🚨Sell Now!🚨\\n💰#Binance Spot💰\\n⬇ Recommendation: #Short 🔴\\nTicker:  #TRBBUSD\\nTime Interval:  5min\\nLast Price: 11.94\\n🔴 RSI: 87.1\\n\\nPowered by #ChatGPT\\n\\n$TRB\\n#TRB\\n#WAX\\n#クラウン\\n\\nWhat are you gonna do?\\n👇LONG        👇WAIT         👇SHORT https://t.co/Akec18mUdkFollowed this strategy for our recent Linkedin launch. Here are the results: \\n\\n~50K impressions😲\\n~300 Likes😉\\n\\nNot everything would be because of the timing but surely it helps. Nonetheless, thankful for the amazing Linkedin community. 👌\\n\\n#buildinpublic #ChatGPT https://t.co/rF6YtAsmVy https://t.co/diPS7u0ZynExciting Lecture on AI Revolutionizing Academic Research! \\nFUE hosts renowned expert Prof. David Rapien to discuss the impact of Chat GPT and AI on education \\n#ScientificDay\\n#ChatGPT #FUE https://t.co/52G9ARJTOSThe number of posts on whether or not #ChatGPT can replace xxx person at their job is stupid. It is a chatbot, not an automation tool. Can Automation tool take away jobs? Yes, if it doesn\\'t require human expertise, nuanced approach to decision making. SMH! 😒Sam Altman, creator of advanced chatbot #ChatGPT has called on US lawmakers to regulate artificial intelligence (#AI). He testified before a US Senate committee on Tuesday about the possibilities - and pitfalls - of the new technology 😱\\nhttps://t.co/R6VejoHSej1/5 📣Introducing #DataChad, the #ChatGPT for any local or cloud data. Chat with any data source: a JSON, PDF, URL, or even an entire GitHub repo! 🌐📚\\n\\nBuilt with #DeepLake, @langchainai, @openai &amp; open-sourced by an awesome community member @thegreatgustby. https://t.co/nX1BTwDemx'"
            ],
            "application/vnd.google.colaboratory.intrinsic+json": {
              "type": "string"
            }
          },
          "metadata": {},
          "execution_count": 82
        }
      ]
    },
    {
      "cell_type": "code",
      "source": [
        "len(text)"
      ],
      "metadata": {
        "colab": {
          "base_uri": "https://localhost:8080/"
        },
        "id": "78bqtw2BVZJW",
        "outputId": "64ee7a93-9e18-498e-be80-3364a68e1a12"
      },
      "execution_count": 83,
      "outputs": [
        {
          "output_type": "execute_result",
          "data": {
            "text/plain": [
              "21519"
            ]
          },
          "metadata": {},
          "execution_count": 83
        }
      ]
    },
    {
      "cell_type": "code",
      "source": [
        "def DF2TXT(df):\n",
        "  text = ' '\n",
        "  for x in df['text']:\n",
        "    text = text + x\n",
        "  return text"
      ],
      "metadata": {
        "id": "2RIlAatunn5m"
      },
      "execution_count": 96,
      "outputs": []
    },
    {
      "cell_type": "code",
      "source": [
        "def NGramAnalysis(text):\n",
        "  word_tokens = word_tokenize(text)\n",
        "  stop_words = list(stopwords.words('english'))\n",
        "  clean_word_data = [w for w in word_tokens if not w.lower() in stop_words]\n",
        "  bigrams_list = [\"_\".join(item) for item in nltk.bigrams(clean_word_data)]\n",
        "  print(bigrams_list)\n",
        "  trigrams_list = [\"_\".join(item) for item in nltk.trigrams(clean_word_data)]\n",
        "  print(trigrams_list)\n",
        "\n",
        "\n",
        "# function to build wordcloud:\n",
        "def show_wordcloud(df):\n",
        "  text = \" \".join(cat.split()[1] for cat in df.text)\n",
        "  \n",
        "  word_cloud = WordCloud(collocations = False, background_color = 'white').generate(text)\n",
        "\n",
        "  plt.imshow(word_cloud, interpolation='bilinear')\n",
        "  plt.axis(\"off\")\n",
        "  plt.savefig('WordCloud.png')"
      ],
      "metadata": {
        "id": "akUwVdEgmJJc"
      },
      "execution_count": 109,
      "outputs": []
    },
    {
      "cell_type": "code",
      "source": [
        "def sentimentanalysis()"
      ],
      "metadata": {
        "id": "TMQgxaYXq74t"
      },
      "execution_count": null,
      "outputs": []
    }
  ]
}